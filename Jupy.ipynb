{
 "cells": [
  {
   "cell_type": "code",
   "execution_count": 1,
   "id": "93d193a6-ef7e-4bf6-bdd1-5710e8de0ae8",
   "metadata": {},
   "outputs": [
    {
     "name": "stderr",
     "output_type": "stream",
     "text": [
      "C:\\Users\\hamza\\AppData\\Local\\Programs\\Python\\Python310\\lib\\site-packages\\pyannote\\audio\\core\\io.py:43: UserWarning: torchaudio._backend.set_audio_backend has been deprecated. With dispatcher enabled, this function is no-op. You can remove the function call.\n",
      "  torchaudio.set_audio_backend(\"soundfile\")\n",
      "C:\\Users\\hamza\\AppData\\Local\\Programs\\Python\\Python310\\lib\\site-packages\\torch_audiomentations\\utils\\io.py:27: UserWarning: torchaudio._backend.set_audio_backend has been deprecated. With dispatcher enabled, this function is no-op. You can remove the function call.\n",
      "  torchaudio.set_audio_backend(\"soundfile\")\n",
      "The torchaudio backend is switched to 'soundfile'. Note that 'sox_io' is not supported on Windows.\n",
      "torchvision is not available - cannot save figures\n",
      "The torchaudio backend is switched to 'soundfile'. Note that 'sox_io' is not supported on Windows.\n"
     ]
    }
   ],
   "source": [
    "import whisperx\n",
    "from pyannote.audio import Pipeline\n",
    "from pydub import AudioSegment  \n",
    "import os\n",
    "import pandas as pd\n",
    "\n",
    "from dotenv import load_dotenv\n",
    "import os\n",
    "\n",
    "load_dotenv()\n",
    "hf_token = os.getenv('hf_token')\n",
    "\n",
    "\n",
    "\n",
    "def transcribe_with_diarization(audio_file_path,OutputFile, model_type=\"large-v2\", device=\"cpu\", hf_token=hf_token):\n",
    "    # Step 1: Load the WhisperX model with float32 compute type\n",
    "    model = whisperx.load_model(model_type, device, compute_type=\"float32\")\n",
    "\n",
    "    # Step 2: Load the audio file\n",
    "    audio = whisperx.load_audio(audio_file_path)\n",
    "\n",
    "    # Step 3: Transcribe audio\n",
    "    result = model.transcribe(audio)\n",
    "\n",
    "    # Step 4: Load an alignment model for diarization\n",
    "    align_model, align_metadata = whisperx.load_align_model(language_code=result[\"language\"], device=device)\n",
    "\n",
    "    # Step 5: Align Whisper output\n",
    "    result = whisperx.align(result[\"segments\"], align_model, align_metadata, audio, device, return_char_alignments=False)\n",
    "\n",
    "    # Step 6: Perform speaker diarization\n",
    "    diarize_model = whisperx.DiarizationPipeline(use_auth_token=hf_token, device=device)\n",
    "    diarize_segments = diarize_model(audio)\n",
    "\n",
    "    # Step 7: Assign speaker IDs to word-level segments\n",
    "    result = whisperx.assign_word_speakers(diarize_segments, result)\n",
    "\n",
    "    transcription = result[\"segments\"]\n",
    "\n",
    "\n",
    "    return transcription"
   ]
  },
  {
   "cell_type": "code",
   "execution_count": null,
   "id": "fcb41985-9502-4e4a-950e-03b0355eee3b",
   "metadata": {},
   "outputs": [
    {
     "data": {
      "application/vnd.jupyter.widget-view+json": {
       "model_id": "e264573d25d84387814f48681f7ef78a",
       "version_major": 2,
       "version_minor": 0
      },
      "text/plain": [
       "tokenizer.json:   0%|          | 0.00/2.20M [00:00<?, ?B/s]"
      ]
     },
     "metadata": {},
     "output_type": "display_data"
    },
    {
     "data": {
      "application/vnd.jupyter.widget-view+json": {
       "model_id": "974ccb170f2a4538af4894ceff88a327",
       "version_major": 2,
       "version_minor": 0
      },
      "text/plain": [
       "vocabulary.txt:   0%|          | 0.00/460k [00:00<?, ?B/s]"
      ]
     },
     "metadata": {},
     "output_type": "display_data"
    },
    {
     "data": {
      "application/vnd.jupyter.widget-view+json": {
       "model_id": "802e4c49bb4e466b8bc891aadc561db0",
       "version_major": 2,
       "version_minor": 0
      },
      "text/plain": [
       "config.json:   0%|          | 0.00/2.80k [00:00<?, ?B/s]"
      ]
     },
     "metadata": {},
     "output_type": "display_data"
    },
    {
     "data": {
      "application/vnd.jupyter.widget-view+json": {
       "model_id": "7212adf138134437b34c83e4b14757f2",
       "version_major": 2,
       "version_minor": 0
      },
      "text/plain": [
       "model.bin:   0%|          | 0.00/3.09G [00:00<?, ?B/s]"
      ]
     },
     "metadata": {},
     "output_type": "display_data"
    }
   ],
   "source": [
    "transcription =  transcribe_with_diarization(\"Audio.wav\",\"fle\")\n",
    "\n",
    "print(transcription)\n"
   ]
  },
  {
   "cell_type": "code",
   "execution_count": null,
   "id": "9d4c3752-2843-4fc8-9d54-40d81cb3ee96",
   "metadata": {},
   "outputs": [],
   "source": []
  }
 ],
 "metadata": {
  "kernelspec": {
   "display_name": "Python 3 (ipykernel)",
   "language": "python",
   "name": "python3"
  },
  "language_info": {
   "codemirror_mode": {
    "name": "ipython",
    "version": 3
   },
   "file_extension": ".py",
   "mimetype": "text/x-python",
   "name": "python",
   "nbconvert_exporter": "python",
   "pygments_lexer": "ipython3",
   "version": "3.10.11"
  }
 },
 "nbformat": 4,
 "nbformat_minor": 5
}
