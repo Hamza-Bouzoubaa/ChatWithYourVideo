{
 "cells": [
  {
   "cell_type": "code",
   "execution_count": null,
   "id": "93d193a6-ef7e-4bf6-bdd1-5710e8de0ae8",
   "metadata": {},
   "outputs": [
    {
     "ename": "",
     "evalue": "",
     "output_type": "error",
     "traceback": [
      "\u001b[1;31mLes cellules en cours d’exécution avec tfod nécessitent le package ipykernel.\n",
      "\u001b[1;31mRun the following command to install 'ipykernel' into the Python environment. \n",
      "\u001b[1;31mCommand: '\"c:/Users/hamza/Python/Object detection/TFODCourse/tfod/Scripts/python.exe\" -m pip install ipykernel -U --force-reinstall'"
     ]
    }
   ],
   "source": [
    "import whisperx\n",
    "from pyannote.audio import Pipeline\n",
    "from pydub import AudioSegment  \n",
    "import os\n",
    "import pandas as pd\n",
    "\n",
    "from dotenv import load_dotenv\n",
    "import os\n",
    "\n",
    "load_dotenv()\n",
    "hf_token = os.getenv('hf_token')\n",
    "\n",
    "\n",
    "\n",
    "def transcribe_with_diarization(audio_file_path,OutputFile, model_type=\"large-v2\", device=\"cpu\", hf_token=hf_token):\n",
    "    # Step 1: Load the WhisperX model with float32 compute type\n",
    "    model = whisperx.load_model(model_type, device, compute_type=\"float32\")\n",
    "\n",
    "    # Step 2: Load the audio file\n",
    "    audio = whisperx.load_audio(audio_file_path)\n",
    "\n",
    "    # Step 3: Transcribe audio\n",
    "    result = model.transcribe(audio)\n",
    "\n",
    "    # Step 4: Load an alignment model for diarization\n",
    "    align_model, align_metadata = whisperx.load_align_model(language_code=result[\"language\"], device=device)\n",
    "\n",
    "    # Step 5: Align Whisper output\n",
    "    result = whisperx.align(result[\"segments\"], align_model, align_metadata, audio, device, return_char_alignments=False)\n",
    "\n",
    "    # Step 6: Perform speaker diarization\n",
    "    diarize_model = whisperx.DiarizationPipeline(use_auth_token=hf_token, device=device)\n",
    "    diarize_segments = diarize_model(audio)\n",
    "\n",
    "    # Step 7: Assign speaker IDs to word-level segments\n",
    "    result = whisperx.assign_word_speakers(diarize_segments, result)\n",
    "\n",
    "    transcription = result[\"segments\"]\n",
    "\n",
    "\n",
    "    return transcription"
   ]
  },
  {
   "cell_type": "code",
   "execution_count": null,
   "id": "fcb41985-9502-4e4a-950e-03b0355eee3b",
   "metadata": {},
   "outputs": [],
   "source": [
    "def transcribe_with_diarization(Audio.wav,OutputFile):\n"
   ]
  }
 ],
 "metadata": {
  "kernelspec": {
   "display_name": "tfodj",
   "language": "python",
   "name": "tfodj"
  },
  "language_info": {
   "codemirror_mode": {
    "name": "ipython",
    "version": 3
   },
   "file_extension": ".py",
   "mimetype": "text/x-python",
   "name": "python",
   "nbconvert_exporter": "python",
   "pygments_lexer": "ipython3",
   "version": "3.9.13"
  }
 },
 "nbformat": 4,
 "nbformat_minor": 5
}
